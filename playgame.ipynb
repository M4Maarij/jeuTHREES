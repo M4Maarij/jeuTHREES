{
 "cells": [
  {
   "cell_type": "code",
   "execution_count": 14,
   "metadata": {
    "scrolled": true,
    "tags": [
     "Q1.1"
    ]
   },
   "outputs": [
    {
     "data": {
      "text/plain": [
       "{'n': 4,\n",
       " 'nb_cases_libres': 16,\n",
       " 'tiles': [0, 0, 0, 0, 0, 0, 0, 0, 0, 0, 0, 0, 0, 0, 0, 0]}"
      ]
     },
     "execution_count": 14,
     "metadata": {},
     "output_type": "execute_result"
    }
   ],
   "source": [
    "def init_play():\n",
    "    plateau={'n':4,'nb_cases_libres':16, 'tiles':[0,0,0,0,0,0,0,0,0,0,0,0,0,0,0,0]}\n",
    "    return plateau\n",
    "init_play()\n"
   ]
  },
  {
   "cell_type": "code",
   "execution_count": 15,
   "metadata": {
    "scrolled": true,
    "tags": [
     "Q1.2"
    ]
   },
   "outputs": [
    {
     "name": "stdout",
     "output_type": "stream",
     "text": [
      "True\n",
      "False\n",
      "True\n",
      "True\n",
      "False\n"
     ]
    }
   ],
   "source": [
    "def check_indice(plateau,indice):\n",
    "    if indice>=0 and indice<=plateau['n']:\n",
    "        return True\n",
    "    else :\n",
    "        return False\n",
    "p=init_play()\n",
    "print(check_indice(p,0))\n",
    "print(check_indice(p,10))\n",
    "print(check_indice(p,3))\n",
    "print(check_indice(p,4))\n",
    "print(check_indice(p,-1))"
   ]
  },
  {
   "cell_type": "code",
   "execution_count": 16,
   "metadata": {
    "tags": [
     "Q1.3"
    ]
   },
   "outputs": [
    {
     "data": {
      "text/plain": [
       "True"
      ]
     },
     "execution_count": 16,
     "metadata": {},
     "output_type": "execute_result"
    }
   ],
   "source": [
    "def check_room(plateau, lig, col):\n",
    "    if check_indice(plateau,lig)== True and check_indice(plateau,col)== True:\n",
    "        return True\n",
    "    else:\n",
    "        return False\n",
    "p=init_play()\n",
    "#check_room(p,0, 4)\n",
    "#check_room(p,10, 2)\n",
    "#check_room(p,-1, 3)\n",
    "check_room(p,3, 3)\n"
   ]
  },
  {
   "cell_type": "code",
   "execution_count": 17,
   "metadata": {
    "tags": [
     "Q1.4"
    ]
   },
   "outputs": [
    {
     "data": {
      "text/plain": [
       "5"
      ]
     },
     "execution_count": 17,
     "metadata": {},
     "output_type": "execute_result"
    }
   ],
   "source": [
    "def get_value(plateau, lig, col):\n",
    "    if check_room (plateau, lig, col):\n",
    "        res=4*lig+col\n",
    "        nb=plateau['tiles'][res]\n",
    "        return nb\n",
    "    else:\n",
    "        return False\n",
    "#p=init_play()\n",
    "p={'n':4,'nb_cases_libres':16, 'tiles':[1,2,5,6,9,2,3,0,0,10,6,4,5,3,7,8]}\n",
    "\n",
    "get_value(p,3,0)\n"
   ]
  },
  {
   "cell_type": "code",
   "execution_count": 18,
   "metadata": {
    "tags": [
     "Q1.5"
    ]
   },
   "outputs": [
    {
     "ename": "NameError",
     "evalue": "name 'medium_display' is not defined",
     "output_type": "error",
     "traceback": [
      "\u001b[1;31m---------------------------------------------------------------------------\u001b[0m",
      "\u001b[1;31mNameError\u001b[0m                                 Traceback (most recent call last)",
      "\u001b[1;32m<ipython-input-18-cd39ac7b2ac8>\u001b[0m in \u001b[0;36m<module>\u001b[1;34m\u001b[0m\n\u001b[0;32m     17\u001b[0m \u001b[0mplateau\u001b[0m\u001b[1;33m=\u001b[0m\u001b[1;33m{\u001b[0m\u001b[1;34m'n'\u001b[0m\u001b[1;33m:\u001b[0m\u001b[1;36m4\u001b[0m\u001b[1;33m,\u001b[0m\u001b[1;34m'nb_cases_libres'\u001b[0m\u001b[1;33m:\u001b[0m\u001b[1;36m16\u001b[0m\u001b[1;33m,\u001b[0m \u001b[1;34m'tiles'\u001b[0m\u001b[1;33m:\u001b[0m\u001b[1;33m[\u001b[0m\u001b[1;36m0\u001b[0m\u001b[1;33m,\u001b[0m\u001b[1;36m0\u001b[0m\u001b[1;33m,\u001b[0m\u001b[1;36m3\u001b[0m\u001b[1;33m,\u001b[0m\u001b[1;36m0\u001b[0m\u001b[1;33m,\u001b[0m\u001b[1;36m0\u001b[0m\u001b[1;33m,\u001b[0m\u001b[1;36m0\u001b[0m\u001b[1;33m,\u001b[0m\u001b[1;36m0\u001b[0m\u001b[1;33m,\u001b[0m\u001b[1;36m1\u001b[0m\u001b[1;33m,\u001b[0m\u001b[1;36m0\u001b[0m\u001b[1;33m,\u001b[0m\u001b[1;36m0\u001b[0m\u001b[1;33m,\u001b[0m\u001b[1;36m0\u001b[0m\u001b[1;33m,\u001b[0m\u001b[1;36m0\u001b[0m\u001b[1;33m,\u001b[0m\u001b[1;36m0\u001b[0m\u001b[1;33m,\u001b[0m\u001b[1;36m0\u001b[0m\u001b[1;33m,\u001b[0m\u001b[1;36m0\u001b[0m\u001b[1;33m,\u001b[0m\u001b[1;36m0\u001b[0m\u001b[1;33m]\u001b[0m\u001b[1;33m}\u001b[0m\u001b[1;33m\u001b[0m\u001b[1;33m\u001b[0m\u001b[0m\n\u001b[0;32m     18\u001b[0m \u001b[1;33m\u001b[0m\u001b[0m\n\u001b[1;32m---> 19\u001b[1;33m \u001b[0mmedium_display\u001b[0m\u001b[1;33m(\u001b[0m\u001b[0mplateau\u001b[0m\u001b[1;33m)\u001b[0m\u001b[1;33m\u001b[0m\u001b[1;33m\u001b[0m\u001b[0m\n\u001b[0m\u001b[0;32m     20\u001b[0m \u001b[1;33m\u001b[0m\u001b[0m\n\u001b[0;32m     21\u001b[0m \u001b[0mset_value\u001b[0m\u001b[1;33m(\u001b[0m\u001b[0mplateau\u001b[0m\u001b[1;33m,\u001b[0m\u001b[1;36m0\u001b[0m\u001b[1;33m,\u001b[0m\u001b[1;36m2\u001b[0m\u001b[1;33m,\u001b[0m\u001b[1;36m0\u001b[0m\u001b[1;33m)\u001b[0m\u001b[1;33m\u001b[0m\u001b[1;33m\u001b[0m\u001b[0m\n",
      "\u001b[1;31mNameError\u001b[0m: name 'medium_display' is not defined"
     ]
    }
   ],
   "source": [
    "def set_value(plateau,lig,col,val):\n",
    "    nb_case=4*lig+col\n",
    "    \n",
    "\n",
    "    if check_room(plateau,lig,col)== False:\n",
    "        return False \n",
    "    elif plateau['nb_cases_libres']!=0:\n",
    "        plateau['nb_cases_libres']=plateau['nb_cases_libres']-1\n",
    "        plateau['tiles'][nb_case]=val\n",
    "        return plateau\n",
    "     \n",
    "    else:\n",
    "        plateau['tiles'][nb_case]=val\n",
    "        \n",
    "        return plateau\n",
    "    \n",
    "plateau={'n':4,'nb_cases_libres':16, 'tiles':[0,0,3,0,0,0,0,1,0,0,0,0,0,0,0,0]}\n",
    "\n",
    "medium_display(plateau)\n",
    "\n",
    "set_value(plateau,0,2,0)\n",
    "\n",
    "medium_display(plateau)"
   ]
  },
  {
   "cell_type": "code",
   "execution_count": null,
   "metadata": {
    "tags": [
     "Q1.6"
    ]
   },
   "outputs": [],
   "source": [
    "def is_room_empty(plateau,i,j):\n",
    "    if get_value(plateau,i,j)==0:\n",
    "        return True\n",
    "    else:\n",
    "        return False\n",
    "plateau={'n':4,'nb_cases_libres':16, 'tiles':[0,0,2,3,0,0,0,1,0,0,0,0,0,0,0,0]}   \n",
    "is_room_empty(plateau,2,3)"
   ]
  },
  {
   "cell_type": "code",
   "execution_count": null,
   "metadata": {
    "tags": [
     "Q1.7"
    ]
   },
   "outputs": [],
   "source": [
    "def get_nb_empty_rooms(plateau):\n",
    "    \"\"\"cette fonction permet de montrer les casses libres\"\"\"\n",
    "    \n",
    "    tab=p['tiles']\n",
    "    i=0\n",
    "    nb=0\n",
    "    while i<len(tab):\n",
    "        if tab[i]==0:\n",
    "            nb+=1\n",
    "        i+=1\n",
    "    plateau['nb_cases_libres']=nb #nombre total des cases\n",
    "    return nb\n",
    "#p={'n':4,'nb_cases_libres':16, 'tiles':[1,2,5,6,9,2,3,0,0,10,6,4,5,3,7,8]}\n",
    "p={'n':4,'nb_cases_libres':16, 'tiles':[0,0,2,3,0,0,0,1,0,0,0,0,0,0,0,0]}  \n",
    "res=get_nb_empty_rooms(p)\n",
    "print(p)\n",
    "print(res)"
   ]
  },
  {
   "cell_type": "code",
   "execution_count": null,
   "metadata": {
    "tags": [
     "Q1.8"
    ]
   },
   "outputs": [],
   "source": [
    "def is_game_over(plateau):\n",
    "    \"\"\"cette fonction decide si le jeu est terminer en fonction des cases libre\"\"\"\n",
    "    n=get_nb_empty_rooms(p)\n",
    "    if n!=0:\n",
    "        return False\n",
    "    else:\n",
    "        return True\n",
    "#p={'n':4,'nb_cases_libres':16, 'tiles':[0,0,0,0,0,0,0,0,0,0,0,0,0,0,0,0]}\n",
    "p={'n':4,'nb_cases_libres':16, 'tiles':[1,2,5,6,4,2,3,1,1,10,6,4,5,3,7,8]}\n",
    "is_game_over(p)\n"
   ]
  },
  {
   "cell_type": "code",
   "execution_count": null,
   "metadata": {
    "tags": [
     "Q1.8bis"
    ]
   },
   "outputs": [],
   "source": [
    "def check_game_over(plateau):\n",
    "    \"\"\"c'est la fonction test pour Q8\"\"\"\n",
    "    \n",
    "    if is_game_over==True:\n",
    "        gameover=is_game_over\n",
    "    elif is_game_over==False:\n",
    "        gameover!= is_game_over\n",
    "p={'n':4,'nb_cases_libres':16, 'tiles':[0,0,0,0,0,0,0,0,0,0,0,0,0,0,0,0]}\n",
    "is_game_over(p)"
   ]
  },
  {
   "cell_type": "code",
   "execution_count": null,
   "metadata": {
    "tags": [
     "Q1.9"
    ]
   },
   "outputs": [],
   "source": [
    "#def get_score(p):\n",
    "   \n",
    "#    s=0\n",
    "#    i=0\n",
    "#    x=plateau['tiles']\n",
    "#    while i<len(x):\n",
    "#        s=s+x[i]\n",
    "#        i+=1\n",
    "\n",
    "#    print(\"score:\",s)\n",
    "#p={'n':4,'nb_cases_libres':16, 'tiles':[1,2,5,6,9,2,3,1,1,10,6,4,5,3,7,8]}\n",
    "#get_score(p)\n",
    "    "
   ]
  },
  {
   "cell_type": "code",
   "execution_count": null,
   "metadata": {
    "tags": [
     "somme",
     "Q1.9"
    ]
   },
   "outputs": [],
   "source": [
    "def get_score(p):\n",
    "    \"\"\"cette fonction montre le score\"\"\"\n",
    "    s=0\n",
    "    i=0\n",
    "    x=p['tiles']\n",
    "    while i<len(x):\n",
    "        s=s+x[i]\n",
    "        i+=1\n",
    "    return s\n",
    "    #print(\"score:\",s)\n",
    "p={'n':4,'nb_cases_libres':16, 'tiles':[1,2,5,6,0,4,3,1,4,10,6,4,5,3,7,8]}\n",
    "get_score(p)\n",
    "    "
   ]
  },
  {
   "cell_type": "code",
   "execution_count": null,
   "metadata": {
    "tags": [
     "Q1.10"
    ]
   },
   "outputs": [],
   "source": [
    "def medium_display(palteau):\n",
    "    \"\"\"cette fonction montre l'affichage d'entrées de table comme une table de 4X4\"\"\"\n",
    "    \n",
    "    x=plateau['tiles']\n",
    "    n=4\n",
    "    \n",
    "    line=''\n",
    "    k=0\n",
    "    while k<n:\n",
    "        line=line + '*****'\n",
    "        k+=1\n",
    "        \n",
    "    i=0\n",
    "    while i<n:\n",
    "        print(line)\n",
    "        j=0\n",
    "        nline='*'\n",
    "        while j<n:\n",
    "            nline= nline+' ' +str(x[4*i+j])+ ' * '\n",
    "            j+=1\n",
    "        print(nline)\n",
    "        i+=1\n",
    "    print(line)\n",
    "    \n",
    "    \n",
    "plateau={'n':4,'nb_cases_libres':16, 'tiles':[34,2,5,6,9,2,3,1,4,1,6,4,5,3,7,8]}\n",
    "def check_indice(plateau, lig):\n",
    "    return lig<4 and lig>=0\n",
    "def check_room(plateau, lig, col):\n",
    "    return check_indice(plateau,lig) and check_indice(plateau,col)\n",
    "def set_value(plateau,lig,col,val):\n",
    "    nb_case=4*lig+col\n",
    "    if check_room(plateau, lig, col) and val>=0:\n",
    "        plateau['tiles'][nb_case]=val\n",
    "medium_display(plateau)\n",
    "print(\"Next\")\n",
    "set_value(plateau,0,0,0)\n",
    "medium_display(plateau)\n"
   ]
  },
  {
   "cell_type": "code",
   "execution_count": null,
   "metadata": {
    "scrolled": true,
    "tags": [
     "Q1.10"
    ]
   },
   "outputs": [],
   "source": [
    "#def medium_display(palteau):\n",
    "#\n",
    "#    \"\"\"cette fonction montre l'affichage d'entrées de table comme une table de 4X4\"\"\"\n",
    "#    \n",
    "#i=0\n",
    "# #   k=0\n",
    "#    n=4 #int(input())\n",
    "#    line=''\n",
    "#    while k<n:\n",
    "#        line=line + '*****'\n",
    "#        k+=1\n",
    "#    while i<len(x):\n",
    "#        print(line)\n",
    "#        j=0\n",
    "#        nline='*'\n",
    "#        while j<n:\n",
    "#            nline= nline+' ' +str(plateau['tiles'][i])+ ' * '\n",
    "#            i+=1\n",
    "#            j+=1\n",
    "#        print(nline)\n",
    "#    print(line)\n",
    "#p={'n':4,'nb_cases_libres':16, 'tiles':[1,2,5,6,9,2,3,1,4,1,6,4,5,3,7,8]}\n",
    "#medium_display(p)\n",
    "\n"
   ]
  },
  {
   "cell_type": "code",
   "execution_count": null,
   "metadata": {
    "scrolled": true,
    "tags": [
     "simple_display"
    ]
   },
   "outputs": [],
   "source": [
    "def simple_display(p):\n",
    "    \"\"\"c'est une affichage simple 4X4 d'entres de table\"\"\"\n",
    "    x=p['tiles']\n",
    "    i=0\n",
    "    j=0\n",
    "    while i<len(x):\n",
    "        j=0\n",
    "        newline=''\n",
    "        while j<4 :\n",
    "            newline += str(p['tiles'][i])+\"   \"\n",
    "            i+=1\n",
    "            j+=1\n",
    "        print(newline)\n",
    "p={'n':4,'nb_cases_libres':16, 'tiles':[1,2,5,6,9,2,3,1,4,10,6,4,5,3,7,8]}\n",
    "simple_display(p)\n",
    "        "
   ]
  },
  {
   "cell_type": "code",
   "execution_count": null,
   "metadata": {
    "tags": [
     "full_display"
    ]
   },
   "outputs": [],
   "source": [
    "from termcolor import colored\n",
    "print (colored ('hello', 'red'))"
   ]
  },
  {
   "cell_type": "code",
   "execution_count": null,
   "metadata": {
    "tags": [
     "PARTIE2"
    ]
   },
   "outputs": [],
   "source": [
    "\n",
    "\n",
    "\n",
    "\n",
    "                        '''///////////////////////partie2\\\\\\\\\\\\\\\\\\\\\\\\\\\\\\\\\\\\\\\\\\'''\n",
    "                        \n",
    "                        \n",
    "                        \n",
    "                        \n",
    "                        "
   ]
  },
  {
   "cell_type": "code",
   "execution_count": null,
   "metadata": {
    "scrolled": true,
    "tags": [
     "Q2.1"
    ]
   },
   "outputs": [],
   "source": [
    "from random import randint\n",
    "def get_next_alea_tiles(plateau, mode):\n",
    "    dico={}\n",
    "    #mode=input()\n",
    "    if mode=='init':\n",
    "        dico={'mode':'init',\n",
    "              0:{'val':randint(1,2), 'lig':randint(0,3),'col':randint(0,3)},\n",
    "              1:{'val':randint(1,2), 'lig':randint(0,3),'col':randint(0,3)},\n",
    "              'check':is_game_over(p)\n",
    "             }\n",
    "        return dico\n",
    "    elif mode=='encours':\n",
    "        dico={'mode':'encours',\n",
    "              0:{'val':randint(1,3), 'lig':randint(1,3),'col':randint(1,3)},\n",
    "              'check':is_game_over(plateau)\n",
    "             }\n",
    "        return dico\n",
    "p={'n':4,'nb_cases_libres':16, 'tiles':[1,2,5,6,9,2,3,1,4,1,6,4,5,3,7,8]}\n",
    "print(get_next_alea_tiles(p, 'encours'))  \n",
    "a=get_next_alea_tiles(p, 'init')\n",
    "print(a)\n",
    "print(a[0]['lig'])\n"
   ]
  },
  {
   "cell_type": "code",
   "execution_count": null,
   "metadata": {
    "tags": [
     "Q2.2"
    ]
   },
   "outputs": [],
   "source": [
    "def put_next_tiles(plateau,tiles):\n",
    "        \n",
    "        if tiles['mode']=='init':\n",
    "            nb_case=4*tiles[0]['lig']+tiles[0]['col']\n",
    "            nb_case_1=4*tiles[1]['lig']+tiles[1]['col']\n",
    "            if plateau['tiles'][nb_case]==0 and plateau['tiles'][nb_case_1]==0:\n",
    "                    plateau['tiles'][nb_case]=3\n",
    "                    plateau['tiles'][nb_case_1]=2\n",
    "        elif tiles['mode']=='encours':\n",
    "            nb_case=4*tiles[1]['lig']+tiles[1]['col']\n",
    "            if plateau['tiles'][nb_case]==0:\n",
    "                    plateau['tiles'][nb_case]=tiles[1]['val']\n",
    "        return plateau\n",
    "            \n",
    "p=init_play()   \n",
    "print(p)\n",
    "t=get_next_alea_tiles(p,'init')\n",
    "put_next_tiles(plateau,t)"
   ]
  },
  {
   "cell_type": "code",
   "execution_count": null,
   "metadata": {
    "tags": [
     "Q2.3"
    ]
   },
   "outputs": [],
   "source": [
    "def line_pack(plateau,num_lig,debut, sens):\n",
    "    if sens==1:\n",
    "        if debut==0:\n",
    "            plateau['tiles'][4*num_lig+debut]=plateau['tiles'][4*num_lig+(debut+1)]\n",
    "            plateau['tiles'][4*num_lig+(debut+1)]=plateau['tiles'][4*num_lig+(debut+2)]\n",
    "            plateau['tiles'][4*num_lig+(debut+2)]=plateau['tiles'][4*num_lig+(debut+3)]\n",
    "            plateau['tiles'][4*num_lig+(debut+3)]=0\n",
    "        elif debut==1:\n",
    "            plateau['tiles'][4*num_lig+(debut-1)]=plateau['tiles'][4*num_lig+(debut)]\n",
    "            plateau['tiles'][4*num_lig+debut]=plateau['tiles'][4*num_lig+(debut+1)]\n",
    "            plateau['tiles'][4*num_lig+(debut+1)]=plateau['tiles'][4*num_lig+(debut+2)]\n",
    "            plateau['tiles'][4*num_lig+(debut+2)]=0\n",
    "        \n",
    "        \n",
    "        elif debut==2:\n",
    "            plateau['tiles'][4*num_lig+(debut-1)]=plateau['tiles'][4*num_lig+(debut)]\n",
    "            plateau['tiles'][4*num_lig+(debut)]=plateau['tiles'][4*num_lig+(debut+1)]\n",
    "            plateau['tiles'][4*num_lig+(debut+1)]=0\n",
    "     \n",
    "        elif debut==3:\n",
    "            plateau['tiles'][4*num_lig+(debut-1)]=plateau['tiles'][4*num_lig+(debut)]\n",
    "            plateau['tiles'][4*num_lig+(debut)]=0\n",
    "    if sens==0:\n",
    "        if debut==3:\n",
    "            plateau['tiles'][4*num_lig+(debut)]=plateau['tiles'][4*num_lig+(debut-1)]\n",
    "            plateau['tiles'][4*num_lig+(debut-1)]=plateau['tiles'][4*num_lig+(debut-2)]\n",
    "            plateau['tiles'][4*num_lig+(debut-2)]=plateau['tiles'][4*num_lig+(debut-3)]\n",
    "            plateau['tiles'][4*num_lig+(debut-3)]=0\n",
    "        elif debut==2:\n",
    "            plateau['tiles'][4*num_lig+(debut+1)]=plateau['tiles'][4*num_lig+debut]\n",
    "            plateau['tiles'][4*num_lig+(debut)]=plateau['tiles'][4*num_lig+(debut-1)]\n",
    "            plateau['tiles'][4*num_lig+(debut-1)]=plateau['tiles'][4*num_lig+(debut-2)]\n",
    "            plateau['tiles'][4*num_lig+(debut-2)]=0\n",
    "        \n",
    "        \n",
    "        elif debut==1:\n",
    "            plateau['tiles'][4*num_lig+(debut+1)]=plateau['tiles'][4*num_lig+(debut)]\n",
    "            plateau['tiles'][4*num_lig+(debut)]=plateau['tiles'][4*num_lig+(debut-1)]\n",
    "            plateau['tiles'][4*num_lig+(debut-1)]=0\n",
    "        elif debut==0:\n",
    "            plateau['tiles'][4*num_lig+(debut+1)]=plateau['tiles'][4*num_lig+(debut)]\n",
    "            plateau['tiles'][4*num_lig+(debut)]=0\n",
    "            \n",
    "plateau={'n':4,\n",
    "  'nombre_case_libres':6,\n",
    "  'tiles':[0,2,0,0,0,2,3,3,0,2,2,0,0,0,0,0]}\n",
    "medium_display(plateau)\n",
    "print(\"\"\"2\"\"\")\n",
    "line_pack(plateau,0,1,0)\n",
    "medium_display(plateau)\n",
    "print(\"\"\"3\"\"\")\n",
    "\n",
    "line_pack(plateau,0,0,1)\n",
    "medium_display(plateau)\n",
    "print(\"\"\"4\"\"\")\n",
    "\n",
    "line_pack(plateau,0,0,1)\n",
    "medium_display(plateau)\n",
    "print(\"\"\"5\"\"\")\n",
    "\n",
    "line_pack(plateau,0,0,1)\n",
    "medium_display(plateau)"
   ]
  },
  {
   "cell_type": "code",
   "execution_count": null,
   "metadata": {
    "tags": [
     "Q2.4"
    ]
   },
   "outputs": [],
   "source": [
    "def colum_pack(plateau,num_col,debut,sens):\n",
    "    if sens==1:\n",
    "        if debut==0:\n",
    "            plateau['tiles'][4*debut+num_col]=plateau['tiles'][(4*debut+num_col)+4]\n",
    "            plateau['tiles'][(4*debut+num_col)+4]=plateau['tiles'][(4*debut+num_col)+8]\n",
    "            plateau['tiles'][(4*debut+num_col)+8]=plateau['tiles'][(4*debut+num_col)+12]\n",
    "            plateau['tiles'][(4*debut+num_col)+12]=0\n",
    "        elif debut==1:\n",
    "            plateau['tiles'][(4*debut+num_col)-4]=plateau['tiles'][(4*debut+num_col)]\n",
    "            plateau['tiles'][(4*debut+num_col)]=plateau['tiles'][(4*debut+num_col)+4]\n",
    "            plateau['tiles'][(4*debut+num_col)+4]=plateau['tiles'][(4*debut+num_col)+8]\n",
    "            plateau['tiles'][(4*debut+num_col)+8]=0\n",
    "        \n",
    "        \n",
    "        elif debut==2:\n",
    "            plateau['tiles'][(4*debut+num_col)-4]=plateau['tiles'][(4*debut+num_col)]\n",
    "            plateau['tiles'][(4*debut+num_col)]=plateau['tiles'][(4*debut+num_col)+4]\n",
    "            plateau['tiles'][(4*debut+num_col)+4]=0\n",
    "     \n",
    "        elif debut==3:\n",
    "            plateau['tiles'][(4*debut+num_col)-4]=plateau['tiles'][(4*debut+num_col)]\n",
    "            plateau['tiles'][(4*debut+num_col)]=0\n",
    "      #0 pour descendre  \n",
    "    if sens==0:\n",
    "        if debut==3:\n",
    "            plateau['tiles'][(4*debut+num_col)]=plateau['tiles'][(4*debut+num_col)-4]\n",
    "            plateau['tiles'][(4*debut+num_col)-4]=plateau['tiles'][(4*debut+num_col)-8]\n",
    "            plateau['tiles'][(4*debut+num_col)-8]=plateau['tiles'][(4*debut+num_col)-12]\n",
    "            plateau['tiles'][(4*debut+num_col)-12]=0\n",
    "        elif debut==2:\n",
    "            plateau['tiles'][(4*debut+num_col)+4]=plateau['tiles'][(4*debut+num_col)]\n",
    "            plateau['tiles'][(4*debut+num_col)]=plateau['tiles'][(4*debut+num_col)-4]\n",
    "            plateau['tiles'][(4*debut+num_col)-4]=plateau['tiles'][(4*debut+num_col)-8]\n",
    "            plateau['tiles'][(4*debut+num_col)-8]=0\n",
    "        \n",
    "        \n",
    "        elif debut==1:\n",
    "            plateau['tiles'][(4*debut+num_col)+4]=plateau['tiles'][(4*debut+num_col)]\n",
    "            plateau['tiles'][(4*debut+num_col)]=plateau['tiles'][(4*debut+num_col)-4]\n",
    "            plateau['tiles'][(4*debut+num_col)-4]=0\n",
    "     \n",
    "        elif debut==0:\n",
    "            plateau['tiles'][(4*debut+num_col)+4]=plateau['tiles'][(4*debut+num_col)]\n",
    "            plateau['tiles'][(4*debut+num_col)]=0\n",
    "\n",
    "plateau={'n':4,\n",
    "  'nb_cases_libres':6,\n",
    "  'tiles':[1,2,2,1\n",
    "           ,3,3,3,3\n",
    "           ,0,2,2,0\n",
    "           ,0,0,0,0]}            \n",
    "medium_display(plateau)              \n",
    "print(\"1ST\")            \n",
    "colum_pack(plateau, 1,0,0)\n",
    "medium_display(plateau)   \n",
    "\n",
    "print(\"2nd\")            \n",
    "colum_pack(plateau, 1,0,0)\n",
    "medium_display(plateau)   \n",
    "\n",
    "print(\"3rd\")            \n",
    "colum_pack(plateau, 1,0,0)\n",
    "medium_display(plateau)  "
   ]
  },
  {
   "cell_type": "code",
   "execution_count": null,
   "metadata": {
    "tags": [
     "Q2.5"
    ]
   },
   "outputs": [],
   "source": [
    "def line_move(plateau, num_lig, sens):\n",
    "\n",
    "    if sens==1:\n",
    "        debut=0\n",
    "        test=False\n",
    "        while debut<3 and test==False:\n",
    "            x=get_value(plateau,num_lig,debut)\n",
    "            y=get_value(plateau,num_lig,debut+1)\n",
    "            if is_room_empty(plateau,num_lig,debut):\n",
    "                line_pack(plateau,num_lig,debut,1)\n",
    "                test=True\n",
    "\n",
    "            elif (x==1 and y==2) or (x==2 and y==1):\n",
    "                line_pack(plateau,num_lig,debut,1)                \n",
    "                set_value(plateau,num_lig,debut,3)\n",
    "                test=True\n",
    "            elif x%3==0 and x==y:\n",
    "                line_pack(plateau,num_lig,debut,1)\n",
    "                set_value(plateau,num_lig,debut,2*x)\n",
    "                test=True\n",
    "            elif y==0:\n",
    "                line_pack(plateau,num_lig,debut,1)\n",
    "                set_value(plateau,num_lig,debut,x)\n",
    "                test=True\n",
    "            debut+=1\n",
    "    if sens==0:\n",
    "        debut=3\n",
    "        test=False\n",
    "        while debut>0 and test==False:\n",
    "            x=get_value(plateau,num_lig,debut)\n",
    "            y=get_value(plateau,num_lig,debut-1)\n",
    "            if is_room_empty(plateau,num_lig,debut):\n",
    "                line_pack(plateau,num_lig,debut,0)\n",
    "                test=True\n",
    "            elif (x==2 and y==1) or (x==1 and y==2):                \n",
    "                line_pack(plateau,num_lig,debut,0)\n",
    "                set_value(plateau,num_lig,debut,3)                \n",
    "                test=True\n",
    "            elif x%3==0 and x==y:\n",
    "                line_pack(plateau,num_lig,debut,0)\n",
    "                set_value(plateau,num_lig,debut,2*x)\n",
    "                test=True\n",
    "            elif y==0:\n",
    "                print(\"d\")\n",
    "                line_pack(plateau,num_lig,debut,0)\n",
    "                set_value(plateau,num_lig,debut,x)\n",
    "\n",
    "                test=True    \n",
    "            debut-=1            \n",
    "plateau={'n':4,\n",
    "  'nb_cases_libres':6,\n",
    "  'tiles':[3,3,3,3\n",
    "           ,3,0,0,3\n",
    "           ,6,3,3,0\n",
    "           ,3,0,0,1]}\n",
    "medium_display(plateau)\n",
    "line_move(plateau, 0, 0)\n",
    "print('$$$1$$$')\n",
    "medium_display(plateau)\n",
    "\n",
    "print('$$$2$$$')\n",
    "line_move(plateau, 0, 0)\n",
    "medium_display(plateau)\n",
    "print('$$$3$$$')\n",
    "line_move(plateau, 2, 0)\n",
    "medium_display(plateau)\n",
    "print('$$$4$$$')\n",
    "line_move(plateau, 2, 0)\n",
    "medium_display(plateau)"
   ]
  },
  {
   "cell_type": "code",
   "execution_count": null,
   "metadata": {
    "scrolled": true,
    "tags": [
     "LINE_M_QUI_MARCHE"
    ]
   },
   "outputs": [],
   "source": [
    "def line_move(plateau, num_lig, sens):\n",
    "    if sens==1:\n",
    "        debut=0\n",
    "        test=False\n",
    "        while debut<=3 and test==False:\n",
    "            x=get_value(plateau,num_lig,debut)\n",
    "            y=get_value(plateau,num_lig,debut+1)\n",
    "            test=True\n",
    "            if is_room_empty(plateau,num_lig,debut):\n",
    "                line_pack(plateau,num_lig,debut,1)\n",
    "                test=True\n",
    "            elif (x==2 and y==1) or (x==1 and y==2):\n",
    "                line_pack(plateau,num_lig,debut,1)\n",
    "                set_value(plateau,num_lig,debut,3)\n",
    "                test=True\n",
    "                \n",
    "            elif x%3==0 and x==y:\n",
    "                line_pack(plateau,num_lig,debut,1)\n",
    "                set_value(plateau,num_lig,debut,2*x)\n",
    "                test=True\n",
    "            elif x==0 or y==0:\n",
    "                line_pack(plateau,num_lig,debut,1)\n",
    "                set_value(plateau,num_lig,debut,x)\n",
    "                test=True\n",
    "            debut+=1\n",
    "    if sens==0:\n",
    "        debut=3\n",
    "        test=False\n",
    "        while debut>3 and test==False:\n",
    "            x=get_value(plateau,num_lig,debut)\n",
    "            y=get_value(plateau,num_lig,debut-1)\n",
    "            test=True\n",
    "            if is_room_empty(plateau,num_lig,debut):\n",
    "                line_pack(plateau,num_lig,debut,0)\n",
    "                test=True\n",
    "            elif (x==2 and y==1) or (x==1 and y==2):\n",
    "                line_pack(plateau,num_lig,debut,0)\n",
    "                set_value(plateau,num_lig,debut,3)\n",
    "                test=True\n",
    "            elif x%3==0 and x==y:\n",
    "                line_pack(plateau,num_lig,debut,0)\n",
    "                set_value(plateau,num_lig,debut,2*x)\n",
    "                test=True\n",
    "            elif x==0 or y==0:\n",
    "                line_pack(plateau,num_lig,debut,0)\n",
    "                set_value(plateau,num_lig,debut,x)\n",
    "                test=True  \n",
    "            debut-=1            \n",
    "                        \n",
    "plateau={'n':4,\n",
    "  'nb_cases_libres':6,\n",
    "  'tiles':[3,1,2,3\n",
    "           ,3,3,3,3\n",
    "           ,0,2,2,0\n",
    "           ,6,0,0,3]}\n",
    "\n",
    "medium_display(plateau) \n",
    "print(\"\"\"1st\"\"\")\n",
    "line_move(plateau, 1, 0)\n",
    "\n",
    "medium_display(plateau) \n",
    "  \n",
    "print(\"\"\"2nd \"\"\")\n",
    "line_move(plateau, 1, 0)\n",
    "\n",
    "medium_display(plateau) \n",
    "\n",
    "print(\"\"\"3rd\"\"\")\n",
    "line_move(plateau, 1, 0)\n",
    "\n",
    "medium_display(plateau) \n",
    "\n",
    "print(\"\"\"4th\"\"\")\n",
    "line_move(plateau, 0,0)\n",
    "\n",
    "medium_display(plateau) \n",
    "\n",
    "print(\"\"\"5th\"\"\")\n",
    "line_move(plateau, 1, 0)\n",
    "\n",
    "medium_display(plateau) \n",
    "\n",
    "print(\"\"\"6th\"\"\")\n",
    "line_move(plateau, 0, 1)\n",
    "\n",
    "medium_display(plateau) \n",
    "\n",
    "print(\"\"\"7th\"\"\")\n",
    "line_move(plateau, 0, 1)\n",
    "\n",
    "medium_display(plateau)\n",
    "\n",
    "print(\"\"\"8th\"\"\")\n",
    "line_move(plateau, 0, 1)\n",
    "\n",
    "medium_display(plateau)"
   ]
  },
  {
   "cell_type": "code",
   "execution_count": null,
   "metadata": {
    "tags": [
     "Q2.5",
     "FINAL"
    ]
   },
   "outputs": [],
   "source": [
    "def line_move(plateau, num_lig, sens):\n",
    "#\n",
    "    if sens==1:\n",
    "        debut=0\n",
    "        test=False\n",
    "        while debut<3 and test==False:\n",
    "            x=get_value(plateau,num_lig,debut)\n",
    "            y=get_value(plateau,num_lig,debut+1)\n",
    "            if is_room_empty(plateau,num_lig,debut):\n",
    "                line_pack(plateau,num_lig,debut,1)\n",
    "                test=True\n",
    "\n",
    "            elif (x==1 and y==2) or (x==2 and y==1):\n",
    "                val=plateau['tiles'][4*num_lig]\n",
    "                line_pack(plateau,num_lig,debut,1)                \n",
    "                set_value(plateau,num_lig,debut,3)\n",
    "                set_value(plateau,num_lig,debut-1,val)\n",
    "                \n",
    "                test=True\n",
    "            elif x%3==0 and x==y:\n",
    "                val=plateau['tiles'][4*num_lig]\n",
    "                line_pack(plateau,num_lig,debut,1)\n",
    "                set_value(plateau,num_lig,debut,2*x)\n",
    "                set_value(plateau,num_lig,debut-1,val)\n",
    "\n",
    "                test=True\n",
    "            elif x==0 or y==0:\n",
    "                line_pack(plateau,num_lig,debut,1)\n",
    "                set_value(plateau,num_lig,debut,x)\n",
    "                test=True\n",
    "            debut+=1\n",
    "    if sens==0:\n",
    "        debut=3\n",
    "        test=False\n",
    "        while debut>=0 and test==False:\n",
    "            x=get_value(plateau,num_lig,debut)\n",
    "            y=get_value(plateau,num_lig,debut-1)\n",
    "            \n",
    "            if is_room_empty(plateau,num_lig,debut):\n",
    "                line_pack(plateau,num_lig,debut,0)\n",
    "                test=True\n",
    "            \n",
    "            elif (x==2 and y==1) or (x==1 and y==2):\n",
    "                val=plateau['tiles'][4*num_lig+3]\n",
    "                print(val)\n",
    "                line_pack(plateau,num_lig,debut,0)\n",
    "                set_value(plateau,num_lig,debut,3)\n",
    "                set_value(plateau,num_lig,debut+1,val)\n",
    "                test=True\n",
    "            \n",
    "            elif x%3==0 and x==y:\n",
    "                val=plateau['tiles'][4*num_lig+3]\n",
    "                line_pack(plateau,num_lig,debut,0)\n",
    "                set_value(plateau,num_lig,debut,x+y)\n",
    "                set_value(plateau,num_lig,debut+1,val)\n",
    "                test=True\n",
    "                \n",
    "            elif x==0 or y==0:\n",
    "                line_pack(plateau,num_lig,debut,0)\n",
    "                set_value(plateau,num_lig,debut,0)\n",
    "                test=True\n",
    "            debut-=1            \n",
    "plateau={'n':4,\n",
    "  'nb_cases_libres':6,\n",
    "  'tiles':[0,0,6,3\n",
    "           ,3,3,3,3\n",
    "           ,0,2,2,0\n",
    "           ,6,0,0,3]}\n",
    "\n",
    "medium_display(plateau) \n",
    "print(\"\"\"1st\"\"\")\n",
    "line_move(plateau, 0, 0)\n",
    "\n",
    "medium_display(plateau) \n",
    "  \n",
    "print(\"\"\"2nd \"\"\")\n",
    "line_move(plateau, 0, 0)\n",
    "\n",
    "medium_display(plateau) \n",
    "\n",
    "print(\"\"\"3rd\"\"\")\n",
    "line_move(plateau, 0, 1)\n",
    "medium_display(plateau)                       \n",
    "\n"
   ]
  },
  {
   "cell_type": "code",
   "execution_count": null,
   "metadata": {
    "tags": [
     "COLUM_M_QUI_MARCHE"
    ]
   },
   "outputs": [],
   "source": [
    "def colum_move(plateau, num_col, sens):\n",
    "    if sens==1:\n",
    "        debut=0\n",
    "        test=False\n",
    "        while debut<=3 and test==False:\n",
    "            x=get_value(plateau,debut,num_col)\n",
    "            y=get_value(plateau,debut+1,num_col)\n",
    "            test=True\n",
    "            if is_room_empty(plateau,debut,num_col):\n",
    "                colum_pack(plateau,num_col,debut,1)\n",
    "                test=True\n",
    "            elif (x==2 and y==1) or (x==1 and y==2):\n",
    "                val=plateau['tiles'][4*num_col]\n",
    "                colum_pack(plateau,num_col,debut,1)\n",
    "                set_value(plateau,debut,num_col,3)\n",
    "                set_value(plateau,num_col,debut-1,val)\n",
    "                test=True\n",
    "            elif x%3==0 and x==y:\n",
    "                colum_pack(plateau,num_col,debut,1)\n",
    "                set_value(plateau,debut,num_col,2*x)\n",
    "                test=True\n",
    "            elif x==0 or y==0:\n",
    "                colum_pack(plateau,num_col,debut,1)\n",
    "                set_value(plateau,debut,num_col,x)            \n",
    "            debut+=1\n",
    "    if sens==0:\n",
    "        debut=3\n",
    "        test=False\n",
    "        while debut>=3 and test==False:\n",
    "            x=get_value(plateau,debut,num_col)\n",
    "            y=get_value(plateau,debut-1,num_col)\n",
    "            test=True\n",
    "        if is_room_empty(plateau,debut,num_col):\n",
    "            colum_pack(plateau,num_col,debut,0)\n",
    "            test=True\n",
    "        elif (x==2 and y==1) or (x==1 and y==2):\n",
    "            val=plateau['tiles'][4*num_col]\n",
    "            colum_pack(plateau,num_col,debut,1)\n",
    "            set_value(plateau,debut,num_col,3)\n",
    "            set_value(plateau,num_col,debut+1,val)\n",
    "            test=True\n",
    "\n",
    "        elif x%3==0 and x==y:\n",
    "            colum_pack(plateau,num_col,debut,0)\n",
    "            set_value(plateau,debut,num_col,2*x)\n",
    "            test=True\n",
    "            debut-=1\n",
    "        elif x==0 or y==0:\n",
    "                colum_pack(plateau,num_col,debut,0)\n",
    "                set_value(plateau,debut,num_col,x)\n",
    "                                                                  \n",
    "plateau={'n':4,\n",
    "  'nb_cases_libres':6,\n",
    "  'tiles':[3,2,2,1\n",
    "           ,0,1,3,2\n",
    "           ,0,3,2,2\n",
    "           ,3,0,0,1]}\n",
    "\n",
    "medium_display(plateau) \n",
    "print(\"\"\"1st\"\"\")\n",
    "colum_move(plateau, 0, 0)\n",
    "medium_display(plateau) \n",
    "  \n",
    "print(\"\"\"2nd \"\"\")\n",
    "colum_move(plateau, 0, 0)\n",
    "medium_display(plateau) \n",
    "\n",
    "print(\"\"\"3rd\"\"\")\n",
    "colum_move(plateau, 0, 0)\n",
    "medium_display(plateau) \n",
    "\n",
    "print(\"\"\"4th\"\"\")\n",
    "colum_move(plateau, 0, 0)\n",
    "medium_display(plateau) "
   ]
  },
  {
   "cell_type": "code",
   "execution_count": null,
   "metadata": {
    "tags": [
     "Q2.6",
     "FINAL"
    ]
   },
   "outputs": [],
   "source": [
    "def colum_move(plateau, num_col, sens):\n",
    "    if sens==1:\n",
    "        debut=0\n",
    "        test=False\n",
    "        while debut<=3 and test==False:\n",
    "            x=get_value(plateau,debut,num_col)\n",
    "            y=get_value(plateau,debut+1,num_col)\n",
    "            if is_room_empty(plateau,debut,num_col):\n",
    "                colum_pack(plateau,num_col,debut,1)\n",
    "                test=True\n",
    "            elif (x==2 and y==1) or (x==1 and y==2):\n",
    "                val=plateau['tiles'][4*num_col]\n",
    "                colum_pack(plateau,num_col,debut,1)\n",
    "                set_value(plateau,debut,num_col,3)\n",
    "                set_value(plateau,num_col,debut-1,val)\n",
    "\n",
    "                test=True\n",
    "            elif x%3==0 and x==y:\n",
    "                #val=plateau['tiles'][4*num_col]\n",
    "                colum_pack(plateau,num_col,debut,1)\n",
    "                set_value(plateau,debut,num_col,2*x)\n",
    "                #set_value(plateau,num_col,debut-1,val)\n",
    "\n",
    "                test=True\n",
    "            elif x==0 or y==0:\n",
    "                colum_pack(plateau,num_col,debut,1)\n",
    "                set_value(plateau,debut,num_col,x)\n",
    "\n",
    "                \n",
    "\n",
    "            \n",
    "            debut+=1\n",
    "    if sens==0:\n",
    "        debut=3\n",
    "        test=False\n",
    "        while debut>0 and test==False:\n",
    "            x=get_value(plateau,debut,num_col)\n",
    "            y=get_value(plateau,debut-1,num_col)\n",
    "            if is_room_empty(plateau,debut,num_col):\n",
    "                colum_pack(plateau,num_col,debut,0)\n",
    "                test=True\n",
    "            elif (x==2 and y==1) or (x==1 and y==2):\n",
    "                val=plateau['tiles'][4*num_col+3]\n",
    "                colum_pack(plateau,num_col,debut,0)\n",
    "                set_value(plateau,debut,num_col,x+y)\n",
    "                set_value(plateau,num_col,debut+1,val)\n",
    "\n",
    "\n",
    "            elif x%3==0 and x==y:\n",
    "                #val=plateau['tiles'][4*num_col+3]\n",
    "                colum_pack(plateau,num_col,debut,0)\n",
    "                set_value(plateau,debut,num_col,2*x)\n",
    "                #set_value(plateau,num_col,debut+1,val)\n",
    "                test=True\n",
    "            elif x==0 or y==0:\n",
    "                colum_pack(plateau,num_col,debut,0)\n",
    "                set_value(plateau,debut,num_col,x)\n",
    "            debut-=1\n",
    "plateau={'n':4,\n",
    "  'nb_cases_libres':6,\n",
    "  'tiles':[2,2,2,1\n",
    "           ,0,1,3,2\n",
    "           ,0,3,2,2\n",
    "           ,6,0,0,1]}\n",
    "\n",
    "medium_display(plateau) \n",
    "print(\"\"\"1st\"\"\")\n",
    "colum_move(plateau, 3, 1)\n",
    "medium_display(plateau) \n",
    "  \n",
    "print(\"\"\"2nd \"\"\")\n",
    "colum_move(plateau, 3, 1)\n",
    "medium_display(plateau) \n",
    "\n",
    "print(\"\"\"3rd\"\"\")\n",
    "colum_move(plateau, 3, 1)\n",
    "medium_display(plateau) "
   ]
  },
  {
   "cell_type": "code",
   "execution_count": null,
   "metadata": {
    "tags": [
     "Q2.7"
    ]
   },
   "outputs": [],
   "source": [
    "#sens=1\n",
    "def lines_move(plateau,sens):\n",
    "    if sens==1:\n",
    "        #medium_display(plateau) \n",
    "        print(\"\"\"gauche\"\"\")\n",
    "        line_move(plateau,0,sens)\n",
    "        line_move(plateau,1,sens)\n",
    "        line_move(plateau,2,sens)\n",
    "        line_move(plateau,3,sens)\n",
    "        medium_display(plateau)\n",
    "    if sens==0:\n",
    "        #medium_display(plateau) \n",
    "        print(\"\"\"droite\"\"\")\n",
    "        line_move(plateau,0,sens)\n",
    "        line_move(plateau,1,sens)\n",
    "        line_move(plateau,2,sens)\n",
    "        line_move(plateau,3,sens)\n",
    "        medium_display(plateau)\n",
    "        \n",
    "plateau={'n':4,\n",
    "  'nb_cases_libres':6,\n",
    "  'tiles':[1,1,2,1\n",
    "           ,3,3,3,3\n",
    "           ,1,2,2,0\n",
    "           ,6,0,0,0]}\n",
    "\n",
    "#sens=int(input(\"entrer sens 1 pour a gauche et 0 pour a droite: \"))\n",
    "lines_move(plateau,1)\n",
    "lines_move(plateau,1)\n",
    "lines_move(plateau,0)"
   ]
  },
  {
   "cell_type": "code",
   "execution_count": null,
   "metadata": {
    "tags": [
     "Q2.8"
    ]
   },
   "outputs": [],
   "source": [
    "def colums_move(plateau,sens):\n",
    "    if sens==1:\n",
    "        #medium_display(plateau) \n",
    "        print(\"\"\"haut\"\"\")\n",
    "        colum_move(plateau, 0, sens)\n",
    "        colum_move(plateau, 1, sens)\n",
    "        colum_move(plateau, 2, sens)\n",
    "        colum_move(plateau, 3, sens)\n",
    "        medium_display(plateau) \n",
    "    if sens==0:\n",
    "        #medium_display(plateau) \n",
    "        print(\"\"\"bas\"\"\")\n",
    "        colum_move(plateau, 0, sens)\n",
    "        colum_move(plateau, 1, sens)\n",
    "        colum_move(plateau, 2, sens)\n",
    "        colum_move(plateau, 3, sens)\n",
    "        medium_display(plateau)   \n",
    "\n",
    "    \n",
    "    \n",
    "    \n",
    "plateau={'n':4,\n",
    "  'nb_cases_libres':6,\n",
    "  'tiles':[2,2,2,1\n",
    "           ,1,1,3,2\n",
    "           ,3,3,2,2\n",
    "           ,6,0,0,1]}\n",
    "\n",
    "colums_move(plateau,1) \n",
    "colums_move(plateau,0)    "
   ]
  },
  {
   "cell_type": "code",
   "execution_count": null,
   "metadata": {
    "tags": [
     "Q2.9"
    ]
   },
   "outputs": [],
   "source": [
    "def play_move(plateau,sens):\n",
    "    if sens=='b':\n",
    "        colums_move(plateau,0)\n",
    "    elif sens=='h':\n",
    "        colums_move(plateau,1)\n",
    "    elif sens=='d':\n",
    "        lines_move(plateau,0)\n",
    "    elif sens=='g':\n",
    "        lines_move(plateau,1)\n",
    "        \n",
    "\n",
    "    \n",
    "plateau={'n':4,\n",
    "  'nb_cases_libres':6,\n",
    "  'tiles':[2,1,2,1\n",
    "           ,1,1,2,1\n",
    "           ,3,3,2,2\n",
    "           ,6,0,0,1]}\n",
    "sens=input(\"donner sens de deplacment/n b= bas, h= haut, d= droite, g= gauche :\")\n",
    "play_move(plateau,sens)"
   ]
  },
  {
   "cell_type": "code",
   "execution_count": 13,
   "metadata": {
    "tags": [
     "PARTIE..3"
    ]
   },
   "outputs": [
    {
     "ename": "SyntaxError",
     "evalue": "unexpected character after line continuation character (<ipython-input-13-11e4312c4e1d>, line 1)",
     "output_type": "error",
     "traceback": [
      "\u001b[1;36m  File \u001b[1;32m\"<ipython-input-13-11e4312c4e1d>\"\u001b[1;36m, line \u001b[1;32m1\u001b[0m\n\u001b[1;33m    \\\\\\\\\\\\\\\\\\\\\\\\\\\\\\\\\\\\\\\\\\\\\\\\\\\\\\\\\\\\\\\\\\\\\\\\\\\\\\\\PARTIE 3\\\\\\\\\\\\\\\\\\\\\\\\\\\\\\\\\\\\\\\\\\\\\\\\\\\\\\\\\\\\\\\\\\\\\\\\\\\\\\\\\\\\\\\\\\\\\\\\\\\\\\\u001b[0m\n\u001b[1;37m                                                                                                       ^\u001b[0m\n\u001b[1;31mSyntaxError\u001b[0m\u001b[1;31m:\u001b[0m unexpected character after line continuation character\n"
     ]
    }
   ],
   "source": [
    "\\\\\\\\\\\\\\\\\\\\\\\\\\\\\\\\\\\\\\\\\\\\\\\\\\\\\\\\\\\\\\\\\\\\\\\\\\\\\\\\PARTIE 3\\\\\\\\\\\\\\\\\\\\\\\\\\\\\\\\\\\\\\\\\\\\\\\\\\\\\\\\\\\\\\\\\\\\\\\\\\\\\\\\\\\\\\\\\\\\\\\\\\\\\\"
   ]
  },
  {
   "cell_type": "code",
   "execution_count": null,
   "metadata": {
    "tags": [
     "Q3.1"
    ]
   },
   "outputs": [],
   "source": [
    "def create_new_play():\n",
    "    p=init_play()   \n",
    "    mode=get_next_alea_tiles(p,'init')\n",
    "    p=put_next_tiles(p,mode)\n",
    "    next_valeur=get_next_alea_tiles(p,\"encours\")\n",
    "    partie={\"plateau\":p,\"next_tile\":next_valeur[0]['val'],\"score\": get_score(p)}\n",
    "    return partie\n",
    "create_new_play()"
   ]
  },
  {
   "cell_type": "code",
   "execution_count": null,
   "metadata": {
    "tags": [
     "Q3.2"
    ]
   },
   "outputs": [],
   "source": [
    "def get_user_move():\n",
    "    coup=\"t\"\n",
    "    while coup!=\"h\" and coup!=\"H\" and coup!=\"b\" and coup!=\"B\" and coup!=\"g\" and coup!=\"G\" and coup!=\"d\" and coup!=\"D\" and coup!=\"m\" and coup!=\"M\":\n",
    "        coup=input(\"donner sens de deplacement/n b= bas, h= haut, d= droite, g= gauche, m=menu :\")\n",
    "    if coup==\"h\" or coup==\"H\":\n",
    "        return \"h\"\n",
    "    elif coup==\"b\" or coup==\"B\":\n",
    "        return \"b\"\n",
    "    elif coup==\"g\" or coup==\"G\":\n",
    "        return \"g\"\n",
    "    elif coup==\"d\" or coup==\"D\":\n",
    "        return \"d\"  \n",
    "    elif coup==\"m\" or coup==\"M\":\n",
    "        return \"m\"\n",
    "get_user_move()"
   ]
  },
  {
   "cell_type": "code",
   "execution_count": null,
   "metadata": {
    "tags": [
     "3.5"
    ]
   },
   "outputs": [],
   "source": [
    "def get_user_menu(partie):\n",
    "    if partie==None:\n",
    "        print(\"Aucune partie est en cours\")\n",
    "    \n",
    "    else:\n",
    "        choix=\"a\"\n",
    "        while choix!=\"n\" and choix!=\"N\" and choix!=\"l\" and choix!=\"L\" and choix!=\"s\" and choix!=\"S\" and choix!=\"c\" and choix!=\"C\" and choix!=\"q\" and choix!=\"Q\":\n",
    "            choix=input(\"faite votre choix N= commencer une nouvelle partie, L= Charger une partie, S= sauvegarderune partie, C= reprendre une partie en cours , Q= Terminer le jeu :\")\n",
    "            if choix==\"n\" or choix==\"N\":\n",
    "                return \"N\"\n",
    "            elif choix==\"l\" or choix==\"L\":\n",
    "                return \"L\"\n",
    "            elif choix==\"s\" or choix==\"S\":\n",
    "                return \"S\"\n",
    "            elif choix==\"c\" or choix==\"C\":\n",
    "                return \"C\"  \n",
    "            elif choix==\"q\" or choix==\"Q\":\n",
    "                return \"Q\"\n",
    "                choix=\"a\"\n",
    "get_user_menu(partie)"
   ]
  },
  {
   "cell_type": "code",
   "execution_count": null,
   "metadata": {
    "tags": [
     "Q3.6"
    ]
   },
   "outputs": [],
   "source": [
    "import json\n",
    "def save_game(partie):\n",
    "    partie=create_new_play()\n",
    "    s_game={}\n",
    "    s_game['s_game']=[]\n",
    "    s_game['s_game'].append(partie)\n",
    "    \n",
    "\n",
    "    with open('s_game.json', 'w') as outfile:\n",
    "        json.dump(s_game, outfile)\n",
    "    \n",
    "#partie= {'n': 4, \n",
    "#     'nb_cases_libres': 2,\n",
    "#     'tiles': [1, 2, 5, 6, 9, 2, 3, 0, 0, 10, 6, 4, 5, 3, 7, 8],\n",
    "#         'mode': 'encours', 0: {'val': 3, 'lig': 1, 'col': 2}, 'check': True, 'score': 76}   \n",
    "    \n",
    "    \n",
    "    \n",
    "#save_game(partie)\n",
    "\n",
    "with open('s_game.json') as json_file:\n",
    "    data = json.load(json_file)\n",
    "    print(data)\n",
    "save_game(partie)"
   ]
  },
  {
   "cell_type": "code",
   "execution_count": null,
   "metadata": {
    "tags": [
     "Q3.7"
    ]
   },
   "outputs": [],
   "source": [
    "import json\n",
    "def restore_game() :\n",
    "    \"\"\"restaure et retourne une partie sauvegardée dans le \n",
    "    fichier 'game_saved.json', ou retourne une nouvelle \n",
    "    partie si aucune partie n'est sauvegardée\"\"\"\n",
    "    \n",
    "    with open('s_game.json') as json_file:\n",
    "        data = json.load(json_file)\n",
    "        print(data)\n",
    "restore_game()\n",
    "\n",
    "print(\"\\n check restore\\n\")\n",
    "p=restore_game()\n",
    "print(p)"
   ]
  },
  {
   "cell_type": "code",
   "execution_count": null,
   "metadata": {
    "tags": [
     "test"
    ]
   },
   "outputs": [],
   "source": [
    "def colum_move(plateau, num_col, sens):\n",
    "\n",
    "    if sens==1:\n",
    "        debut=0\n",
    "        test=False\n",
    "        while debut<3 and test==False:\n",
    "            x=get_value(plateau,debut,num_col)\n",
    "            y=get_value(plateau,debut+1,num_col)\n",
    "            if is_room_empty(plateau,debut,num_col):\n",
    "                colum_pack(plateau,num_col,debut,1)\n",
    "                test=True\n",
    "\n",
    "            elif (x==1 and y==2) or (x==2 and y==1):\n",
    "                \n",
    "                val=plateau[\"tiles\"][4*debut-1+num_col]\n",
    "                colum_pack(plateau,num_col,debut,1)                \n",
    "                set_value(plateau,debut,num_col,3)\n",
    "                set_value(plateau,debut-1,num_col,val)               \n",
    "                test=True\n",
    "            elif x%3==0 and x==y:\n",
    "                val=plateau[\"tiles\"][4*debut-1+num_col]\n",
    "                colum_pack(plateau,num_col,debut,1)\n",
    "                set_value(plateau,num_col,debut,2*x)\n",
    "                set_value(plateau,debut-1,num_col,val)               \n",
    "                test=True\n",
    "            elif y==0:\n",
    "                val=plateau[\"tiles\"][4*debut-1+num_col]\n",
    "                colum_pack(plateau,num_col,debut,1)\n",
    "                set_value(plateau,debut,num_col,x)\n",
    "                set_value(plateau,debut-1,num_col,val)               \n",
    "                test=True\n",
    "            debut+=1\n",
    "    if sens==0:\n",
    "        debut=3\n",
    "        test=False\n",
    "        while debut>0 and test==False:\n",
    "            x=get_value(plateau,debut,num_col)\n",
    "            y=get_value(plateau,debut-1,num_col)\n",
    "            print(\"x\"+ str(x))\n",
    "            print(\"y\"+ str(y))\n",
    "            \n",
    "            if is_room_empty(plateau,debut,num_col):\n",
    "                colum_pack(plateau,num_col,debut,0)\n",
    "                test=True\n",
    "\n",
    "            elif (y==1 and x==2) or (y==2 and x==1):\n",
    "                print(\"b\")\n",
    "\n",
    "                val=plateau[\"tiles\"][4*debut+1+num_col]\n",
    "                colum_pack(plateau,num_col,debut,0)                \n",
    "                set_value(plateau,debut,num_col,3)\n",
    "                set_value(plateau,debut-1,num_col,val)               \n",
    "                test=True\n",
    "            elif x%3==0 and y==x:\n",
    "                print(\"c\")\n",
    "\n",
    "                val=plateau[\"tiles\"][4*debut-1+num_col]\n",
    "                colum_pack(plateau,num_col,debut,0)\n",
    "                set_value(plateau,debut,num_col,2*y)\n",
    "                set_value(plateau,debut-1,num_col,val)               \n",
    "                test=True\n",
    "            elif y==0:\n",
    "                print(\"d\")\n",
    "                val=plateau[\"tiles\"][4*debut-1+num_col]\n",
    "                print(\"val \"+ str(val))\n",
    "                colum_pack(plateau,num_col,debut,0)\n",
    "                set_value(plateau,debut,num_col,x)\n",
    "                set_value(plateau,debut-1,num_col,val)               \n",
    "                test=True\n",
    "            debut-=1\n",
    "\n",
    "                \n",
    "\n",
    "                \n",
    "            debut-=1            \n",
    "plateau={'n':4,\n",
    "  'nb_cases_libres':6,\n",
    "  'tiles':[3,1,2,3\n",
    "           ,0,0,0,3\n",
    "           ,0,2,2,0\n",
    "           ,3,0,0,1]}\n",
    "medium_display(plateau)\n",
    "print('$$$1$$$')\n",
    "colum_move(plateau, 0, 0)\n",
    "\n",
    "medium_display(plateau)\n",
    "\n",
    "print('$$$2$$$')\n",
    "colum_move(plateau, 0, 0)\n",
    "medium_display(plateau)\n",
    "print('$$$3$$$')\n",
    "colum_move(plateau, 0, 0)\n",
    "medium_display(plateau)\n",
    "print('$$$4$$$')\n",
    "colum_move(plateau, 0, 0)\n",
    "medium_display(plateau)"
   ]
  }
 ],
 "metadata": {
  "celltoolbar": "Tags",
  "kernelspec": {
   "display_name": "Python 3",
   "language": "python",
   "name": "python3"
  },
  "language_info": {
   "codemirror_mode": {
    "name": "ipython",
    "version": 3
   },
   "file_extension": ".py",
   "mimetype": "text/x-python",
   "name": "python",
   "nbconvert_exporter": "python",
   "pygments_lexer": "ipython3",
   "version": "3.7.3"
  }
 },
 "nbformat": 4,
 "nbformat_minor": 2
}
